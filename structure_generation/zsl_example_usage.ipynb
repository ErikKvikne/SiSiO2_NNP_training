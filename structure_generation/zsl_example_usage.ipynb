{
 "cells": [
  {
   "cell_type": "markdown",
   "id": "01188453",
   "metadata": {},
   "source": [
    "# Generate interfaces using the zsl generator\n",
    "\n"
   ]
  },
  {
   "cell_type": "code",
   "execution_count": 1,
   "id": "e008c1f0",
   "metadata": {},
   "outputs": [],
   "source": [
    "import sys\n",
    "sys.path.append('./zsl_generator')\n",
    "\n",
    "from zsl_match import create_zsl_match\n",
    "from zsl_analyzer import compute_zsl_matches\n",
    "from interface_from_zsl import interface_from_zsl\n",
    "\n",
    "from pymatgen.core.structure import Structure\n",
    "from pymatgen.core.interface import fix_pbc\n",
    "\n",
    "from pymatgen.ext.matproj import MPRester"
   ]
  },
  {
   "cell_type": "markdown",
   "id": "246b32da",
   "metadata": {},
   "source": [
    "### Retrieve structure from materials project"
   ]
  },
  {
   "cell_type": "code",
   "execution_count": null,
   "id": "3b03f862",
   "metadata": {},
   "outputs": [
    {
     "data": {
      "application/vnd.jupyter.widget-view+json": {
       "model_id": "d5bd9516e2a44b42b13866179f332876",
       "version_major": 2,
       "version_minor": 0
      },
      "text/plain": [
       "Retrieving MaterialsDoc documents:   0%|          | 0/1 [00:00<?, ?it/s]"
      ]
     },
     "metadata": {},
     "output_type": "display_data"
    },
    {
     "data": {
      "application/vnd.jupyter.widget-view+json": {
       "model_id": "24631a9309b64eb38e00c2670aab8c67",
       "version_major": 2,
       "version_minor": 0
      },
      "text/plain": [
       "Retrieving MaterialsDoc documents:   0%|          | 0/1 [00:00<?, ?it/s]"
      ]
     },
     "metadata": {},
     "output_type": "display_data"
    },
    {
     "data": {
      "application/vnd.jupyter.widget-view+json": {
       "model_id": "202b681bcfb44c14a8e2cae062df832b",
       "version_major": 2,
       "version_minor": 0
      },
      "text/plain": [
       "Retrieving MaterialsDoc documents:   0%|          | 0/1 [00:00<?, ?it/s]"
      ]
     },
     "metadata": {},
     "output_type": "display_data"
    },
    {
     "name": "stdout",
     "output_type": "stream",
     "text": [
      "SiO2 Structure Alpha:\n",
      "Full Formula (Si3 O6)\n",
      "Reduced Formula: SiO2\n",
      "abc   :   4.914966   4.914966   5.431301\n",
      "angles:  90.000000  90.000000 119.999991\n",
      "pbc   :       True       True       True\n",
      "Sites (9)\n",
      "  #  SP            a          b         c    magmom\n",
      "---  ----  ---------  ---------  --------  --------\n",
      "  0  Si     0.531089   0.531089  0               -0\n",
      "  1  Si    -0          0.468911  0.666667        -0\n",
      "  2  Si     0.468911  -0         0.333333        -0\n",
      "  3  O      0.269223   0.413394  0.784891         0\n",
      "  4  O      0.586606   0.855828  0.118225         0\n",
      "  5  O      0.144172   0.730777  0.451558         0\n",
      "  6  O      0.413394   0.269223  0.215109         0\n",
      "  7  O      0.730777   0.144172  0.548442         0\n",
      "  8  O      0.855828   0.586606  0.881775         0\n",
      "SiO2 Structure Alpha:\n",
      "Full Formula (Si3 O6)\n",
      "Reduced Formula: SiO2\n",
      "abc   :   5.061089   5.061088   5.540501\n",
      "angles:  90.000000  90.000000 119.999997\n",
      "pbc   :       True       True       True\n",
      "Sites (9)\n",
      "  #  SP           a         b         c    magmom\n",
      "---  ----  --------  --------  --------  --------\n",
      "  0  Si    0         0.5       0.666667         0\n",
      "  1  Si    0.5       0.5       0.333333         0\n",
      "  2  Si    0.5       0         0                0\n",
      "  3  O     0.791371  0.582743  0.5             -0\n",
      "  4  O     0.208629  0.791371  0.833333        -0\n",
      "  5  O     0.582743  0.791371  0.166667        -0\n",
      "  6  O     0.208629  0.417257  0.5             -0\n",
      "  7  O     0.791371  0.208629  0.833333        -0\n",
      "  8  O     0.417257  0.208629  0.166667        -0\n",
      "\n",
      "Si Structure:\n",
      "Full Formula (Si2)\n",
      "Reduced Formula: Si\n",
      "abc   :   3.849278   3.849279   3.849278\n",
      "angles:  60.000012  60.000003  60.000011\n",
      "pbc   :       True       True       True\n",
      "Sites (2)\n",
      "  #  SP        a      b      c    magmom\n",
      "---  ----  -----  -----  -----  --------\n",
      "  0  Si    0.875  0.875  0.875        -0\n",
      "  1  Si    0.125  0.125  0.125        -0\n"
     ]
    }
   ],
   "source": [
    "# Replace 'YOUR_API_KEY' with your actual Materials Project API key\n",
    "api_key = 'YOUR_API_KEY'\n",
    "\n",
    "# Initialize MPRester with your API key\n",
    "with MPRester(api_key) as mpr:\n",
    "\n",
    "    # Fetch SiO2 (mp-7000) and Si (mp-149) structures by their Materials Project IDs\n",
    "    siO2_structure_a = mpr.get_structure_by_material_id(\"mp-7000\")  # alpha-quartz\n",
    "    siO2_structure_b = mpr.get_structure_by_material_id(\"mp-6922\")  # beta-quartz\n",
    "    si_structure = mpr.get_structure_by_material_id(\"mp-149\")     # Si\n",
    "\n",
    "    # Print the structures\n",
    "    print(\"SiO2 Structure Alpha:\")\n",
    "    print(siO2_structure_a)\n",
    "    print(\"SiO2 Structure Alpha:\")\n",
    "    print(siO2_structure_b)\n",
    "\n",
    "    print(\"\\nSi Structure:\")\n",
    "    print(si_structure)\n",
    "\n",
    "    # # Optionally, save them as CIF files for later use\n",
    "    # siO2_structure.to(fmt=\"cif\", filename=\"SiO2_structure.cif\")\n",
    "    # si_structure.to(fmt=\"cif\", filename=\"Si_structure.cif\")"
   ]
  },
  {
   "cell_type": "markdown",
   "id": "2c1791c0",
   "metadata": {},
   "source": [
    "### Compute Matches\n",
    "\n",
    "The `compute_zsl_matches` function uses pymatgen’s ZSL algorithm to generate lattice-matched interfaces between a substrate and a film. For each match, it computes strain metrics, transformation matrices, and saves the results (both as a summary CSV and individual match files) for further use in interface construction and analysis."
   ]
  },
  {
   "cell_type": "code",
   "execution_count": null,
   "id": "037ee75b",
   "metadata": {},
   "outputs": [],
   "source": [
    "substrate_miller = (1, 1, 0)\n",
    "film_miller = (1, 0, 0)\n",
    "\n",
    "# Format Miller indices into strings\n",
    "substrate_str = ''.join(map(str, substrate_miller))\n",
    "film_str = ''.join(map(str, film_miller))\n",
    "calc_name = f\"Si_{substrate_str}_SiO2_{film_str}_alpha\"\n",
    "\n",
    "compute_zsl_matches(\n",
    "    substrate=si_structure,\n",
    "    substrate_miller=substrate_miller,\n",
    "    film=siO2_structure_a,\n",
    "    film_miller=film_miller,\n",
    "    calc_name=calc_name\n",
    ")\n"
   ]
  },
  {
   "cell_type": "markdown",
   "id": "621a92d2",
   "metadata": {},
   "source": [
    "### Create Match\n",
    "\n",
    "The `create_zsl_match` function generates a specific lattice match between a crystalline substrate and film using pymatgen's ZSL algorithm. Given a `match_id`, it constructs the corresponding match object, which contains supercell vectors, transformation matrices, and strain data. This match can later be used to generate an actual atomic interface. The function also prints the number of available terminations (i.e., atomic layers) for each material at the interface."
   ]
  },
  {
   "cell_type": "code",
   "execution_count": 34,
   "id": "11a9edd3",
   "metadata": {},
   "outputs": [
    {
     "name": "stdout",
     "output_type": "stream",
     "text": [
      "[('Si_Pmmm_1', 'Si_P4/mmm_1'), ('O2_Pmmm_1', 'Si_P4/mmm_1')]\n"
     ]
    }
   ],
   "source": [
    "match_id = 0\n",
    "zsl_match = create_zsl_match(substrate=si_structure, substrate_miller=substrate_miller, film=siO2_structure_a, film_miller=film_miller, match_id=match_id) "
   ]
  },
  {
   "cell_type": "markdown",
   "id": "e43a4ef8",
   "metadata": {},
   "source": [
    "### Generate Interface\n",
    "\n",
    "The `interface_from_zsl` function builds a 3D atomic interface structure between a substrate and a film using a selected lattice match. It allows precise control over interface terminations, film/substrate thicknesses, vertical alignment (z-shift), and vacuum. It trims excess atomic layers, applies optional mirroring of the substrate, and returns a complete `pymatgen.Interface` object for further simulation or analysis."
   ]
  },
  {
   "cell_type": "code",
   "execution_count": null,
   "id": "db52749b",
   "metadata": {},
   "outputs": [],
   "source": [
    "termination=('O2_Pmmm_1', 'Si_P4/mmm_1')\n",
    "\n",
    "gap = 2\n",
    "vacuum_over_film = 2\n",
    "film_thickness = 6\n",
    "film_shift = 0.0\n",
    "substrate_thickness = 8\n",
    "substrate_shift = 0.0\n",
    "in_plane_offset = (0.0, 0.0)\n",
    "substrate_flip = False\n",
    "\n",
    "interface = interface_from_zsl(substrate=si_structure, substrate_miller=substrate_miller, film=siO2_structure_a, film_miller=film_miller,zsl_match=zsl_match,\n",
    "                   termination=termination,gap=gap, vacuum_over_film=vacuum_over_film,film_thickness=film_thickness,\n",
    "                   film_shift=film_shift,substrate_thickness=substrate_thickness, substrate_shift=substrate_shift,\n",
    "                   in_plane_offset=in_plane_offset,substrate_flip=substrate_flip)"
   ]
  },
  {
   "cell_type": "markdown",
   "id": "b35f009d",
   "metadata": {},
   "source": [
    "### Save Structure"
   ]
  },
  {
   "cell_type": "code",
   "execution_count": null,
   "id": "1b310673",
   "metadata": {},
   "outputs": [
    {
     "name": "stdout",
     "output_type": "stream",
     "text": [
      "Saving to: Si_110_SiO2_alpha_100_term_O2_Pmmm_1_Si_P4_mmm_1_0_supercell_1x1x1_gap_2_vac_2_filmthick_6_substratethick_8_substrate_shift_0.0_offset_0.0_0.0_flip_F.cif\n"
     ]
    }
   ],
   "source": [
    "import re\n",
    "from pymatgen.io.ase import AseAtomsAdaptor\n",
    "from ase.io import write\n",
    "\n",
    "# Sanitize for filenames\n",
    "def sanitize_string(s):\n",
    "    return re.sub(r'[^\\w\\-]', '_', s)\n",
    "\n",
    "# Updated filename generator with supercell info\n",
    "def generate_unique_filename(\n",
    "    substrate_name, film_name,\n",
    "    substrate_miller, film_miller,\n",
    "    match_id, termination, gap, \n",
    "    vacuum_over_film, film_thickness, substrate_thickness, \n",
    "    substrate_shift, in_plane_offset, substrate_flip,\n",
    "    supercell=(1, 1, 1)\n",
    "):\n",
    "    substrate_miller_str = f\"{substrate_name}_{substrate_miller[0]}{substrate_miller[1]}{substrate_miller[2]}\"\n",
    "    film_miller_str = f\"{film_name}_{film_miller[0]}{film_miller[1]}{film_miller[2]}\"\n",
    "    match_str = f\"{match_id}\"\n",
    "\n",
    "    term_0 = sanitize_string(termination[0])\n",
    "    term_1 = sanitize_string(termination[1])\n",
    "    termination_str = f\"term_{term_0}_{term_1}\"\n",
    "\n",
    "    supercell_str = f\"supercell_{supercell[0]}x{supercell[1]}x{supercell[2]}\"\n",
    "    params_str = (\n",
    "        f\"gap_{gap}_vac_{vacuum_over_film}_filmthick_{film_thickness}\"\n",
    "        f\"_substratethick_{substrate_thickness}_substrate_shift_{substrate_shift}\"\n",
    "        f\"_offset_{in_plane_offset[0]}_{in_plane_offset[1]}_flip_{'F' if not substrate_flip else 'T'}\"\n",
    "    )\n",
    "\n",
    "    unique_filename = f\"{substrate_miller_str}_{film_miller_str}_{termination_str}_{match_str}_{supercell_str}_{params_str}.cif\"\n",
    "    return unique_filename\n",
    "\n",
    "# === INPUTS ===\n",
    "substrate_name = 'Si'\n",
    "film_name = 'SiO2_alpha'\n",
    "supercell = (1, 1, 1)  # Repeat in x-direction\n",
    "\n",
    "\n",
    "# Generate filename\n",
    "filename = generate_unique_filename(\n",
    "    substrate_name=substrate_name,\n",
    "    film_name=film_name,\n",
    "    substrate_miller=substrate_miller,\n",
    "    film_miller=film_miller,\n",
    "    match_id=match_id,\n",
    "    termination=termination,\n",
    "    gap=gap,\n",
    "    vacuum_over_film=vacuum_over_film,\n",
    "    film_thickness=film_thickness,\n",
    "    substrate_thickness=substrate_thickness,\n",
    "    substrate_shift=substrate_shift,\n",
    "    in_plane_offset=in_plane_offset,\n",
    "    substrate_flip=substrate_flip,\n",
    "    supercell=supercell  # New argument\n",
    ")\n",
    "\n",
    "print(\"Saving to:\", filename)\n",
    "\n",
    "# Convert to ASE Atoms and repeat\n",
    "atoms = AseAtomsAdaptor.get_atoms(interface)\n",
    "atoms = atoms.repeat(supercell)\n",
    "\n",
    "# File paths\n",
    "folder_name = '/path/to/folder/' \n",
    "file_path = folder_name + filename\n",
    "\n",
    "# Save as CIF and LAMMPS\n",
    "write(file_path, atoms, format=\"cif\")\n",
    "write(file_path.replace('.cif', '.data'), atoms, format=\"lammps-data\")\n",
    "\n",
    "# Optionally preview structure\n",
    "# view(atoms)\n"
   ]
  },
  {
   "cell_type": "code",
   "execution_count": null,
   "id": "5b8d8762",
   "metadata": {},
   "outputs": [],
   "source": []
  }
 ],
 "metadata": {
  "kernelspec": {
   "display_name": "pymatgen_env",
   "language": "python",
   "name": "python3"
  },
  "language_info": {
   "codemirror_mode": {
    "name": "ipython",
    "version": 3
   },
   "file_extension": ".py",
   "mimetype": "text/x-python",
   "name": "python",
   "nbconvert_exporter": "python",
   "pygments_lexer": "ipython3",
   "version": "3.12.9"
  }
 },
 "nbformat": 4,
 "nbformat_minor": 5
}
