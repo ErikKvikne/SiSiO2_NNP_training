{
 "cells": [
  {
   "cell_type": "markdown",
   "id": "741ef414",
   "metadata": {},
   "source": [
    "# List of useful commands\n",
    "\n",
    "### Watch Number of jobs\n",
    "\n",
    "```watch -n 3 \"squeue -u ekvikne | grep -c -v JOBID\"```\n",
    "\n",
    "### Copy all files excluding string\n",
    "\n",
    "```rsync -avz --exclude='*.wfn*' /path/from/ /path/to/```\n",
    "\n",
    "### Identify failed jobs\n",
    "\n",
    "```grep -l \"SCF run NOT converged\" */*/*.out```\n"
   ]
  },
  {
   "cell_type": "markdown",
   "id": "cb5453c9",
   "metadata": {},
   "source": []
  }
 ],
 "metadata": {
  "language_info": {
   "name": "python"
  }
 },
 "nbformat": 4,
 "nbformat_minor": 5
}
